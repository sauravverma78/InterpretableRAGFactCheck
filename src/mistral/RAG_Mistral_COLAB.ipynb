{
 "cells": [
  {
   "cell_type": "markdown",
   "metadata": {
    "id": "gSMWLDo3DNi7"
   },
   "source": [
    "<h1 align=\"center\">INFO621 - RAG Project RAG - XAI - PEFT Tuning [Mistral 7B - COLAB] </h1>\n",
    "\n"
   ]
  },
  {
   "cell_type": "markdown",
   "metadata": {
    "id": "XMoVscjlb8tw"
   },
   "source": [
    "### This notebook / code was developed on COLAB - A100 GPU.\n",
    "\n",
    "**This is a complementary notebook and Equivalent to the MISTRAL LOCAL (MACBook one). It is given as an alternative to execute the code on platform agnostic cloud env of COLAB** \n",
    "- Note some ablation experiments were done only Locally, so MISTRAL Local notebook has more content.\n",
    "\n",
    "\n",
    "- Steps are mentioned in README.md.\n",
    "    -  Execute the Next cell for pip installs. \n",
    "    -  This install all packages required on COLAB\n",
    "    -  **Note : During package install, Colab would ask for \"restart\" of session. Please do so. And run the install cell again.**\n",
    "    -  Requires access to your local google drive.\n",
    "    -  Would need your HuggingFace Token (to download the models)\n",
    "\n",
    "    -  change `local_path = ` below if you want to save Embedding model + Vector store in a different google drive mounted folder\n",
    "    - We suggest running cell by cell manually to see the executions, as some steps are time consuming\n",
    "  \n",
    "\n",
    "\n",
    "#### Some steps take a long time to run, \n",
    " - e.g. all the XAI frameworks may take few minutes to give results, RAGAS metrics are resource heavy.\n",
    "\n",
    "### The code here uses Mistral-7B model for the E2E RAG pipeline + XAI + RAGAS evaluation\n",
    "- Refer README.md for more details.\n",
    "- And the Project report for combined study and analysis\n",
    "\n",
    "\n",
    "### Core Libraries used in the project\n",
    " - **Core-ML/NLP**: torch, transformers, accelerate, bitsandbytes, sentence-transformers.\n",
    " - **Fine-Tuning**: peft, trl [PART OF ANOTHER NOTEBOOK]\n",
    " - **RAG & Vector Store**: langchain, chromadb, faiss-gpu\n",
    " - **Evaluation**: scikit-learn, **RAGAS**\n",
    " - **XAI**: captum, lime, shap, ,lit\n",
    " - **Data Handling**: datasets, numpy\n",
    " - **Utilities**: tqdm, psutil, asyncio, nest_asyncio, openai, tiktoken, matplotlib, seaborn"
   ]
  },
  {
   "cell_type": "code",
   "execution_count": null,
   "metadata": {},
   "outputs": [],
   "source": [
    "# RUN FOR COLAB\n",
    "\n",
    "!pip install seaborn==0.12.2\n",
    "!pip install captum==0.8.0\n",
    "# !pip install numpy==2.0.0\n",
    "!pip install accelerate==1.6.0\n",
    "!pip install sentence-transformers==3.4.1\n",
    "!pip install langchain==0.3.24\n",
    "!pip install langchain-community==0.3.23\n",
    "!pip install langchainhub\n",
    "!pip install chromadb==1.0.5\n",
    "!pip install  scikit-learn\n",
    "\n",
    "!pip install ragas==0.2.14\n",
    "!pip install openai\n",
    "!pip install nest_asyncio\n",
    "!pip install shap==0.44.0\n",
    "!pip install lime==0.2.0.1\n",
    "\n",
    "!pip install -q lit-nlp\n",
    "!pip install peft==0.8.2\n",
    "!pip install trl==0.16.1\n",
    "!pip install bitsandbytes\n",
    "!pip install loralib"
   ]
  },
  {
   "cell_type": "code",
   "execution_count": null,
   "metadata": {},
   "outputs": [],
   "source": [
    "#  Standard Library\n",
    "import os\n",
    "import re\n",
    "import gc\n",
    "import time\n",
    "import asyncio\n",
    "import warnings\n",
    "from typing import List, Optional, Any\n",
    "from collections import Counter\n",
    "\n",
    "#  Visualization\n",
    "import matplotlib\n",
    "import matplotlib.pyplot as plt\n",
    "import seaborn as sns\n",
    "from IPython.display import display, HTML\n",
    "\n",
    "#  Scientific & ML Libraries\n",
    "import numpy as np\n",
    "import torch\n",
    "from torch.nn import functional as F\n",
    "# import faiss\n",
    "from tqdm import tqdm\n",
    "import psutil\n",
    "import shap\n",
    "from lime.lime_text import LimeTextExplainer\n",
    "from sklearn.metrics import accuracy_score, classification_report, confusion_matrix\n",
    "from sklearn.metrics.pairwise import cosine_similarity\n",
    "\n",
    "#  Transformers / HuggingFace\n",
    "import accelerate\n",
    "from transformers import (\n",
    "    pipeline, AutoTokenizer, AutoModelForCausalLM,\n",
    "    AutoModelForSeq2SeqLM, GenerationConfig, BitsAndBytesConfig\n",
    ")\n",
    "from sentence_transformers import SentenceTransformer\n",
    "from captum.attr import Saliency, IntegratedGradients\n",
    "from captum.attr import visualization as viz\n",
    "\n",
    "#  LangChain Core\n",
    "from langchain.prompts import PromptTemplate\n",
    "from langchain.vectorstores import Chroma\n",
    "from langchain.embeddings import HuggingFaceEmbeddings\n",
    "from langchain.llms import HuggingFacePipeline\n",
    "from langchain.chains import RetrievalQA\n",
    "from langchain.retrievers.multi_query import MultiQueryRetriever\n",
    "from langchain.llms.base import LLM\n",
    "from langchain.schema import LLMResult, Document\n",
    "from langchain.callbacks.base import BaseCallbackHandler\n",
    "from langchain.callbacks.tracers import ConsoleCallbackHandler\n",
    "from langchain.callbacks.manager import CallbackManager, CallbackManagerForLLMRun\n",
    "from langchain.chat_models import ChatOpenAI\n",
    "from langchain.schema.retriever import BaseRetriever\n",
    "\n",
    "#  LangChain Community Extensions\n",
    "# from langchain_huggingface import HuggingFacePipeline, HuggingFaceEmbeddings\n",
    "from langchain_community.llms import HuggingFacePipeline\n",
    "from langchain_community.embeddings import HuggingFaceEmbeddings\n",
    "\n",
    "\n",
    "#  LangChain Core v1-style\n",
    "from langchain_core.retrievers import BaseRetriever as LCBaseRetriever\n",
    "from langchain_core.documents import Document as LCDocument\n",
    "from langchain_core.pydantic_v1 import Field\n",
    "\n",
    "#  RAGAS\n",
    "from ragas import evaluate, EvaluationDataset\n",
    "from ragas.run_config import RunConfig\n",
    "from ragas.testset import TestsetGenerator\n",
    "from ragas.llms import LangchainLLMWrapper\n",
    "from ragas.embeddings import BaseRagasEmbeddings, LangchainEmbeddingsWrapper\n",
    "from ragas.metrics import (\n",
    "    LLMContextRecall, Faithfulness, FactualCorrectness,\n",
    "    AnswerCorrectness, ResponseRelevancy, ContextPrecision\n",
    ")\n",
    "\n",
    "#  Datasets\n",
    "from datasets import Dataset, load_dataset\n",
    "\n",
    "#  Notebook Setup\n",
    "import nest_asyncio\n",
    "nest_asyncio.apply()\n",
    "\n",
    "#  Suppress Warnings\n",
    "warnings.filterwarnings(\"ignore\")\n",
    "warnings.filterwarnings(\"ignore\", message=\"Setting `pad_token_id` to `eos_token_id`:2 for open-end generation.\")\n",
    "warnings.filterwarnings(\"ignore\", message=\"The attention mask and the pad token id were not set. As a consequence, you may observe unexpected behavior\")\n",
    "\n"
   ]
  },
  {
   "cell_type": "code",
   "execution_count": null,
   "metadata": {},
   "outputs": [],
   "source": [
    "from langchain.callbacks.manager import CallbackManager\n",
    "\n",
    "# Langchain callback for detailed logging\n",
    "CALLBACK_VERBOSE_LOGGING=True\n",
    "\n"
   ]
  },
  {
   "cell_type": "markdown",
   "metadata": {
    "id": "mIpIEyd4Fm0r"
   },
   "source": [
    "## ==== 1) Load FEVER Dataset ===="
   ]
  },
  {
   "cell_type": "code",
   "execution_count": null,
   "metadata": {},
   "outputs": [],
   "source": [
    "dataset1 = load_dataset(\"copenlu/fever_gold_evidence\")"
   ]
  },
  {
   "cell_type": "code",
   "execution_count": null,
   "metadata": {},
   "outputs": [],
   "source": [
    "dataset1"
   ]
  },
  {
   "cell_type": "code",
   "execution_count": null,
   "metadata": {},
   "outputs": [],
   "source": [
    "train = dataset1['train']\n",
    "validation = dataset1['validation']\n",
    "test = dataset1['test']"
   ]
  },
  {
   "cell_type": "markdown",
   "metadata": {
    "id": "8gKID_VWFm0s"
   },
   "source": [
    "## ==== 2) Cleaned FEVER Dataset ===="
   ]
  },
  {
   "cell_type": "markdown",
   "metadata": {
    "id": "dH05uYS4Fm0s"
   },
   "source": [
    "####  For the preprocessing of the dataset we manage to remove:\n",
    "\n",
    "- all words after the last dot (they don't belong to the sentence but are a kind of most relevant terms) ------> ?????\n",
    "- all the digits that we found at the beginning of the sentence (also with the tab)\n",
    "- all the parenthesis token strings\n",
    "- all the words that contains characters that are not in ASCII format (for example the ones retrieved by the Wikipedia page for the pronunciation of a given name or term)\n",
    "- all the punctuation\n"
   ]
  },
  {
   "cell_type": "code",
   "execution_count": null,
   "metadata": {},
   "outputs": [],
   "source": [
    "\n",
    "\n",
    "# Special tokens like \"-LRB-\" etc.\n",
    "PARENTHESIS_TOKENS = {\"-LRB-\", \"-LSB-\", \"-RRB-\", \"-RSB-\"}\n",
    "\n",
    "# Check for non-ASCII characters\n",
    "def contains_non_ascii(s):\n",
    "    return any(ord(ch) > 127 for ch in s)\n",
    "\n",
    "# Remove parenthesis tokens\n",
    "def remove_parenthesis(sentence):\n",
    "    return ' '.join([word for word in sentence.split() if word not in PARENTHESIS_TOKENS])\n",
    "\n",
    "# Clean up a single sentence\n",
    "def clean_sentence(sentence):\n",
    "    if not isinstance(sentence, str):\n",
    "        return \"\"\n",
    "\n",
    "    # 1. Remove trailing fragments after first period (optional)\n",
    "    sentence = re.sub(r'(\\.[^.]*)$', '.', sentence)\n",
    "\n",
    "    # 2. Remove leading digits + tab\n",
    "    sentence = re.sub(r'^\\d+\\t', '', sentence)\n",
    "\n",
    "    # 3. Remove special parenthesis tokens like -LRB-, -RRB-, etc.\n",
    "    sentence = re.sub(r'-LRB-|-RRB-|-LSB-|-RSB-', '', sentence)\n",
    "\n",
    "    # 4. Remove words with non-ASCII characters\n",
    "    words = sentence.split()\n",
    "    words = [word for word in words if all(ord(ch) < 128 for ch in word)]\n",
    "    sentence = ' '.join(words)\n",
    "\n",
    "    # 5. Remove punctuation and underscores but KEEP dots and commas\n",
    "    sentence = re.sub(r'[^\\w\\s.,]', '', sentence)\n",
    "\n",
    "    # 6. Normalize whitespace\n",
    "    sentence = re.sub(r'\\s+', ' ', sentence)\n",
    "\n",
    "    sentence = re.sub(r'[^\\w\\s.,]', '', sentence)\n",
    "    sentence = re.sub(r'[_]', ' ', sentence)\n",
    "\n",
    "    # 7. Lowercase\n",
    "    sentence = sentence.lower().strip()\n",
    "    if not (sentence.endswith(\".\")):\n",
    "        sentence +=  \".\"\n",
    "    return sentence"
   ]
  },
  {
   "cell_type": "code",
   "execution_count": null,
   "metadata": {},
   "outputs": [],
   "source": [
    "# === Extract and Clean Evidence Sentences ===\n",
    "def clean_evidences(ds, max_len=500, typ=\"train\"):\n",
    "    evidence_sentences = []\n",
    "    total = 0\n",
    "    for example in ds:\n",
    "        if 'evidence' in example and example['evidence']:\n",
    "            total += 1\n",
    "            for group in example['evidence']:\n",
    "                full_sent = \"\"\n",
    "                for ev in group:\n",
    "                    if isinstance(ev, str) and not ev.isdigit():\n",
    "                        sentence = clean_sentence(ev)\n",
    "                        if sentence:\n",
    "                            full_sent += sentence + \" \"\n",
    "                if full_sent.strip():\n",
    "                    evidence_sentences.append(full_sent.strip()[0:max_len])\n",
    "\n",
    "    # Deduplicate\n",
    "    evidence_sentences = list(set(evidence_sentences))\n",
    "    print(\"total \", total)\n",
    "    print(f\"Total cleaned evidence dedup sentences : {len(evidence_sentences)}, of {typ}\")\n",
    "    for e in evidence_sentences[:2]:\n",
    "        print(\"Sample:\", e)\n",
    "    return evidence_sentences"
   ]
  },
  {
   "cell_type": "code",
   "execution_count": null,
   "metadata": {},
   "outputs": [],
   "source": [
    "# Use only 5,000 for our purpose.\n",
    "train_10K=train.select(range(5000))\n",
    "train_cl_10K = clean_evidences(train_10K)\n"
   ]
  },
  {
   "cell_type": "code",
   "execution_count": null,
   "metadata": {},
   "outputs": [],
   "source": [
    "# Use 1000 for validation\n",
    "validation_1K=validation.select(range(1000))\n",
    "validation_cl_1K = clean_evidences(validation_1K, typ=\"validation\")\n"
   ]
  },
  {
   "cell_type": "code",
   "execution_count": null,
   "metadata": {},
   "outputs": [],
   "source": [
    "# Use 1000 for test\n",
    "test_1K=test.select(range(1000))\n",
    "test_cl_1K = clean_evidences(test_1K, typ=\"test\")"
   ]
  },
  {
   "cell_type": "markdown",
   "metadata": {
    "id": "ENTjojUlFm0s"
   },
   "source": [
    "## Pie Chart Code for Class Distribution"
   ]
  },
  {
   "cell_type": "code",
   "execution_count": null,
   "metadata": {},
   "outputs": [],
   "source": [
    "from collections import Counter\n",
    "\n",
    "# Count label distribution\n",
    "label_counts = Counter([sample[\"label\"] for sample in train_10K])\n",
    "\n",
    "# Plot\n",
    "labels = list(label_counts.keys())\n",
    "sizes = list(label_counts.values())\n",
    "colors = ['#66b3ff', '#99ff99', '#ff9999']\n",
    "\n",
    "plt.figure(figsize=(7, 7))\n",
    "plt.pie(sizes, labels=labels, colors=colors, autopct=\"%1.1f%%\", startangle=140)\n",
    "# plt.axis(\"equal\")\n",
    "plt.title(\"Label Distribution in FEVER Train 5K Sample\")\n",
    "plt.show()"
   ]
  },
  {
   "cell_type": "code",
   "execution_count": null,
   "metadata": {},
   "outputs": [],
   "source": [
    "# Count label distribution\n",
    "label_counts = Counter([sample[\"label\"] for sample in validation_1K])\n",
    "\n",
    "# Plot\n",
    "labels = list(label_counts.keys())\n",
    "sizes = list(label_counts.values())\n",
    "colors = ['#66b3ff', '#99ff99', '#ff9999']\n",
    "\n",
    "plt.figure(figsize=(7, 7))\n",
    "plt.pie(sizes, labels=labels, colors=colors, autopct=\"%1.1f%%\", startangle=140)\n",
    "# plt.axis(\"equal\")\n",
    "plt.title(\"Label Distribution in FEVER Validate 1K Sample\")\n",
    "plt.show()"
   ]
  },
  {
   "cell_type": "code",
   "execution_count": null,
   "metadata": {},
   "outputs": [],
   "source": [
    "# Connect to Google Drive\n",
    "from google.colab import drive\n",
    "drive.mount('/content/drive')\n",
    "local_path = \"/content/drive/MyDrive/models\"\n"
   ]
  },
  {
   "cell_type": "code",
   "execution_count": null,
   "metadata": {},
   "outputs": [],
   "source": [
    "# Login to HuggingFace\n",
    "# !huggingface-cli login\n",
    "\n",
    "# Or programatically\n",
    "from huggingface_hub import login\n",
    "login(token=\" token id\")"
   ]
  },
  {
   "cell_type": "markdown",
   "metadata": {
    "id": "MOEK62jVFm0s"
   },
   "source": [
    "## === 3. Embedding Model ==="
   ]
  },
  {
   "cell_type": "code",
   "execution_count": null,
   "metadata": {},
   "outputs": [],
   "source": [
    "def get_embedding_model(model_name: str = \"BAAI/bge-m3\", save_path: str = \"./local_models/bge-m3\"):\n",
    "    \"\"\"\n",
    "    Downloads and saves a sentence-transformer model if not already saved.\n",
    "    Returns a HuggingFaceEmbeddings instance for LangChain.\n",
    "\n",
    "    Args:\n",
    "        model_name (str): Name of the Hugging Face model.\n",
    "        save_path (str): Local directory to save/load the model.\n",
    "\n",
    "    Returns:\n",
    "        HuggingFaceEmbeddings: Embedding wrapper usable with LangChain retrievers.\n",
    "    \"\"\"\n",
    "    if not os.path.exists(save_path):\n",
    "        print(f\"Downloading and saving model '{model_name}' to: {save_path}.....\")\n",
    "        model = SentenceTransformer(model_name)\n",
    "\n",
    "        model.save(save_path)\n",
    "    else:\n",
    "        print(f\"Loading embedding model from local path: {save_path}...\")\n",
    "\n",
    "    model = HuggingFaceEmbeddings(model_name=save_path)\n",
    "    sentence_transformer = SentenceTransformer(save_path)\n",
    "    print(f\"Successfully loaded Embed model.\")\n",
    "    return model, sentence_transformer\n",
    "\n",
    "    # embeddings = HuggingFaceEmbeddings(model_name=model_name)\n",
    "    # sentence_transformer = SentenceTransformer(model_name)\n",
    "    # return embeddings, sentence_transformer"
   ]
  },
  {
   "cell_type": "code",
   "execution_count": null,
   "metadata": {},
   "outputs": [],
   "source": [
    "embedding_model, sentence_transformer = get_embedding_model(\n",
    "    model_name=\"BAAI/bge-m3\",\n",
    "    save_path= local_path + \"/bge-m3\"\n",
    ")"
   ]
  },
  {
   "cell_type": "markdown",
   "metadata": {
    "id": "9oj-TOIjFm0t"
   },
   "source": [
    "## === 4. Chroma Vector Store ===\n",
    "\n"
   ]
  },
  {
   "cell_type": "code",
   "execution_count": null,
   "metadata": {},
   "outputs": [],
   "source": [
    "def monitor_memory():\n",
    "    mem = psutil.virtual_memory()\n",
    "    return f\"Memory used: {mem.used // (1024**2)} MB / {mem.total // (1024**2)} MB ({mem.percent}%)\"\n",
    "\n",
    "def get_or_create_chroma_db(texts, embedding_model, persist_dir, batch_size=100):\n",
    "    if os.path.exists(persist_dir):\n",
    "        print(\"Loading existing Chroma DB from disk...\")\n",
    "        return Chroma(persist_directory=persist_dir, embedding_function=embedding_model)\n",
    "    else:\n",
    "        # return Chroma.from_texts(texts, embedding=embedding_model, persist_directory=persist_dir)\n",
    "        print(\"Creating new Chroma DB and saving to disk...\")\n",
    "        print(\"given size \", len(texts))\n",
    "        os.makedirs(persist_dir, exist_ok=True)\n",
    "\n",
    "        # Create Chroma DB (empty)\n",
    "        vectorstore = Chroma(embedding_function=embedding_model, persist_directory=persist_dir)\n",
    "\n",
    "        for i in tqdm(range(0, len(texts), batch_size), desc=\"Indexing to Chroma\"):\n",
    "            batch = texts[i:i + batch_size]\n",
    "            if batch:\n",
    "                try:\n",
    "                    vectorstore.add_texts(batch)\n",
    "                    vectorstore.persist()  # flush to disk\n",
    "                except Exception as e:\n",
    "                    print(f\"Skipped batch {i}: {e}\")\n",
    "                    raise\n",
    "            gc.collect()  # clean up memory\n",
    "\n",
    "        return vectorstore\n"
   ]
  },
  {
   "cell_type": "code",
   "execution_count": null,
   "metadata": {},
   "outputs": [],
   "source": [
    "# TRAIN Chroma DB\n",
    "evidence_sentences = train_cl_10K\n",
    "vectorstore = get_or_create_chroma_db(\n",
    "    texts=evidence_sentences,\n",
    "    embedding_model=embedding_model,\n",
    "    persist_dir=local_path+\"/chromadb_fever_train1\"\n",
    ")\n",
    "print (len(vectorstore))"
   ]
  },
  {
   "cell_type": "code",
   "execution_count": null,
   "metadata": {},
   "outputs": [],
   "source": [
    "# VALIDATE Chroma DB\n",
    "validation_sentences = validation_cl_1K\n",
    "vectorstore_validate = get_or_create_chroma_db(\n",
    "    texts=validation_sentences,\n",
    "    embedding_model=embedding_model,\n",
    "    persist_dir=local_path+\"/chromadb_fever_validate\"\n",
    ")\n",
    "print (len(validation_sentences))"
   ]
  },
  {
   "cell_type": "markdown",
   "metadata": {
    "id": "nW-r_2hLFm0t"
   },
   "source": [
    "###  The model"
   ]
  },
  {
   "cell_type": "code",
   "execution_count": null,
   "metadata": {},
   "outputs": [],
   "source": [
    "def load_model(model_id=\"mistralai/Mistral-7B-Instruct-v0.2\"):\n",
    "    \"\"\"\n",
    "    Loads model from local directory if it exists,\n",
    "    otherwise downloads and saves it to the specified path.\n",
    "\n",
    "    Returns:\n",
    "        tokenizer, model\n",
    "    \"\"\"\n",
    "    print(f\"Downloading model from Hugging Face: {model_id}...\")\n",
    "    tokenizer = AutoTokenizer.from_pretrained(model_id)\n",
    "    model = AutoModelForCausalLM.from_pretrained(model_id, device_map=\"auto\", torch_dtype=\"auto\")\n",
    "    print(f\"Successfully loaded model.\")\n",
    "    return tokenizer, model"
   ]
  },
  {
   "cell_type": "code",
   "execution_count": null,
   "metadata": {},
   "outputs": [],
   "source": [
    "tokenizer, model = load_model()"
   ]
  },
  {
   "cell_type": "code",
   "execution_count": null,
   "metadata": {},
   "outputs": [],
   "source": []
  },
  {
   "cell_type": "code",
   "execution_count": null,
   "metadata": {},
   "outputs": [],
   "source": [
    "# Create a generation pipeline\n",
    "gen_pipeline = pipeline(\n",
    "    \"text-generation\",\n",
    "    model=model,\n",
    "    tokenizer=tokenizer,\n",
    "    max_new_tokens=768, # TODO 1024 in colab\n",
    "    pad_token_id=tokenizer.eos_token_id,  # this prevents the warning\n",
    "    temperature=0.1,\n",
    "    do_sample=True,\n",
    "    top_p=0.95,\n",
    "    # return_full_text=False\n",
    ")"
   ]
  },
  {
   "cell_type": "code",
   "execution_count": null,
   "metadata": {},
   "outputs": [],
   "source": [
    "# Wrap in LangChain LLM\n",
    "llm = HuggingFacePipeline(pipeline=gen_pipeline)"
   ]
  },
  {
   "cell_type": "code",
   "execution_count": null,
   "metadata": {},
   "outputs": [],
   "source": []
  },
  {
   "cell_type": "markdown",
   "metadata": {
    "id": "_k9lycuLFm0t"
   },
   "source": [
    "### ===  DenseRetriever &  MultiQueryRetriever Setup ===\n",
    "\n"
   ]
  },
  {
   "cell_type": "code",
   "execution_count": null,
   "metadata": {},
   "outputs": [],
   "source": [
    "# retriever = MultiQueryRetriever.from_llm(\n",
    "#    retriever=vectorstore.as_retriever(search_kwargs={\"k\": 5}),\n",
    "#    llm=llm # ChatOpenAI(temperature=0)  # Replace with HuggingFacePipeline if local-only\n",
    "# )\n",
    "\n",
    "# Dense retriever\n",
    "retriever = vectorstore.as_retriever(search_kwargs={\"k\": 5})\n"
   ]
  },
  {
   "cell_type": "code",
   "execution_count": null,
   "metadata": {},
   "outputs": [],
   "source": [
    "# Validate retriever\n",
    "retriever_validate = vectorstore_validate.as_retriever(search_kwargs={\"k\": 5})"
   ]
  },
  {
   "cell_type": "markdown",
   "metadata": {
    "id": "darituhaFm0t"
   },
   "source": [
    "## === 6. Reasoning Prompt ==="
   ]
  },
  {
   "cell_type": "code",
   "execution_count": null,
   "metadata": {},
   "outputs": [],
   "source": [
    "\n",
    "prompt_template = PromptTemplate.from_template(\"\"\"\n",
    "You are a classifier. Based ONLY on the evidence below, select the correct label for the claim:\n",
    "SUPPORTS, REFUTES, or NOT ENOUGH INFO. Respond with only one word. If the claim entity is mentioned but no positive link exists, treat as REFUTES.\n",
    "\n",
    "Claim: {question}\n",
    "\n",
    "Evidence:\n",
    "{context}\n",
    "\n",
    "Your answer:\n",
    "\"\"\")\n",
    "\n",
    "# prompt_template = PromptTemplate.from_template(\"\"\"\n",
    "# Classify the following claim based on the provided evidence. Output only one of: SUPPORTS, REFUTES, NOT ENOUGH INFO.\n",
    "\n",
    "# Claim: {question}\n",
    "# Evidence: {context}\n",
    "\n",
    "# Classification:\n",
    "# \"\"\")"
   ]
  },
  {
   "cell_type": "code",
   "execution_count": null,
   "metadata": {},
   "outputs": [],
   "source": [
    "\n",
    "def extract_label_from_answer_block(text):\n",
    "    \"\"\"\n",
    "    Extracts the final label from the line after 'Your answer:' in the model's response.\n",
    "    Assumes label is one of: SUPPORTS, REFUTES, NOT ENOUGH INFO\n",
    "    \"\"\"\n",
    "    valid_labels = {\"SUPPORTS\", \"REFUTES\", \"NOT ENOUGH INFO\"}\n",
    "\n",
    "    lines = text.strip().upper().splitlines()\n",
    "\n",
    "    for i, line in enumerate(lines):\n",
    "        if \"YOUR ANSWER\" in line:\n",
    "            # Try next non-empty line\n",
    "            for next_line in lines[i+1:]:\n",
    "                candidate = next_line.strip(\" .\").upper()\n",
    "                if candidate in valid_labels:\n",
    "                    return candidate\n",
    "                elif candidate:  # skip empty lines but stop if line has content\n",
    "                    break\n",
    "    return \"UNKNOWN\"\n"
   ]
  },
  {
   "cell_type": "markdown",
   "metadata": {
    "id": "wX9rdgVLFm0u"
   },
   "source": [
    "## === 7. RAG Chain ==="
   ]
  },
  {
   "cell_type": "markdown",
   "metadata": {
    "id": "iaW-qlWIFm0u"
   },
   "source": [
    "**Async Retrieval**\n",
    "- Class that performs threshold-based evidence filtering for the RAG pipeline:\n",
    "- Instead of naively using top 5 documents, it selects top K/5 which show cosine_simuilarity > threshold of 0.6\n",
    "- 0.6 was empirically selected after doing analysis over 100s of claim outputs.\n",
    "- Participates in end to end Chain Logging (retrival logging)"
   ]
  },
  {
   "cell_type": "code",
   "execution_count": null,
   "metadata": {},
   "outputs": [],
   "source": []
  },
  {
   "cell_type": "code",
   "execution_count": null,
   "metadata": {},
   "outputs": [],
   "source": [
    "from langchain.callbacks.base import BaseCallbackHandler\n",
    "from langchain.callbacks.base import BaseCallbackHandler\n",
    "from langchain.schema import LLMResult\n",
    "\n",
    "class VerboseCallbackHandler(BaseCallbackHandler):\n",
    "    \"\"\"\n",
    "    A detailed callback handler for monitoring and logging RAG pipeline steps, \n",
    "    including chain execution, retriever outputs, LLM prompts, LLM responses, \n",
    "    streaming tokens, and token usage.\n",
    "\n",
    "    This handler is primarily used for debugging and analyzing pipeline behavior \n",
    "    by printing human-readable logs during retrieval, generation, and chain execution.\n",
    "\n",
    "    Args:\n",
    "        enabled (bool, optional): \n",
    "            Whether verbose logging is globally enabled. Defaults to True.\n",
    "        \n",
    "        print_prompt (bool, optional): \n",
    "            Whether to print LLM input prompts. Defaults to True.\n",
    "        \n",
    "        print_docs (bool, optional): \n",
    "            Whether to print retrieved documents' contents. Defaults to True.\n",
    "\n",
    "    Attributes:\n",
    "        enabled (bool): \n",
    "            Controls whether any logging is performed.\n",
    "        \n",
    "        print_prompt (bool): \n",
    "            Controls whether LLM prompts are displayed.\n",
    "        \n",
    "        print_docs (bool): \n",
    "            Controls whether retrieved documents are displayed.\n",
    "        \n",
    "        _timers (dict): \n",
    "            Internal dictionary to track timing information for different pipeline stages.\n",
    "\n",
    "    \"\"\"\n",
    "    \n",
    "    def __init__(self, enabled=True, print_prompt=True, print_docs=True):\n",
    "        self.enabled = enabled\n",
    "        self.print_prompt = print_prompt\n",
    "        self.print_docs = print_docs\n",
    "        self._timers = {}\n",
    "\n",
    "    def _start_timer(self, key):\n",
    "        self._timers[key] = time.time()\n",
    "    \n",
    "    def _end_timer(self, key):\n",
    "        if key in self._timers:\n",
    "            elapsed = time.time() - self._timers[key]\n",
    "            print(f\"⏱️ [Time] {key} took {elapsed:.2f} sec\")\n",
    "    \n",
    "    def on_chain_start(self, serialized, inputs, **kwargs):\n",
    "        if not CALLBACK_VERBOSE_LOGGING:\n",
    "            return\n",
    "        print(\"\\n [Chain Start]\")\n",
    "        print(f\"  ➤ Query: {inputs.get('query', inputs)}\")\n",
    "        self._start_timer(\"Chain\")\n",
    "        \n",
    "    def on_chain_end(self, outputs, **kwargs):\n",
    "        if not CALLBACK_VERBOSE_LOGGING:\n",
    "            return\n",
    "        self._end_timer(\"Chain\")\n",
    "        print(\" [Chain End]\")\n",
    "        print(f\"  ➤ Output: {outputs}\")\n",
    "\n",
    "    def on_retriever_end(self, documents, **kwargs):\n",
    "        if not CALLBACK_VERBOSE_LOGGING:\n",
    "            return\n",
    "        print(f\" [Retriever] Retrieved {len(documents)} documents:\")\n",
    "        for i, doc in enumerate(documents[:3]):\n",
    "            print(f\"  {i+1}. {doc.page_content[:150]}...\")\n",
    "\n",
    "    def on_llm_start(self, serialized, prompts, **kwargs):\n",
    "        if not CALLBACK_VERBOSE_LOGGING:\n",
    "            return\n",
    "        print(\"\\n [LLM Prompt]\")\n",
    "        print(prompts[0][:1000])  # Truncate long prompts\n",
    "        self._start_timer(\"LLM\")\n",
    "        \n",
    "    def on_llm_end(self, response: LLMResult, **kwargs):\n",
    "        if not CALLBACK_VERBOSE_LOGGING:\n",
    "            return\n",
    "        self._end_timer(\"LLM\")            \n",
    "        print(\"\\n [LLM Response]\")\n",
    "        print(response.generations[0][0].text.strip())\n",
    "\n",
    "    def on_llm_new_token(self, token: str, **kwargs):\n",
    "        if CALLBACK_VERBOSE_LOGGING:\n",
    "            print(token, end='', flush=True)\n",
    "\n",
    "    def on_llm_end_streaming(self, **kwargs):\n",
    "        if v:\n",
    "            print()  # for clean newline after token stream\n",
    "\n",
    "    def on_llm_token_usage(self, token_usage: dict, **kwargs):\n",
    "        if  CALLBACK_VERBOSE_LOGGING:\n",
    "            print(f\"\\n [Token Usage] prompt: {token_usage.get('prompt_tokens')}, \"\n",
    "                  f\"completion: {token_usage.get('completion_tokens')}, \"\n",
    "                  f\"total: {token_usage.get('total_tokens')}\")\n",
    "    \n",
    "    def log_docs(self, documents):\n",
    "        if not CALLBACK_VERBOSE_LOGGING: return\n",
    "        print(f\"[Retriever] Retrieved {len(documents)} documents:\")\n",
    "        for i, doc in enumerate(documents[:3]):\n",
    "            print(f\"  {i+1}. {doc.page_content[:150]}...\")            \n"
   ]
  },
  {
   "cell_type": "markdown",
   "metadata": {},
   "source": [
    "#### Threshold Filtering Retriever\n",
    "-  Extends the Retriever for RAGs and filters any documents having cosine similarity less than given threshold to offer more relevant and less documents to Model context"
   ]
  },
  {
   "cell_type": "code",
   "execution_count": null,
   "metadata": {},
   "outputs": [],
   "source": [
    "\n",
    "\n",
    "from typing import List, Optional, Any\n",
    "from langchain_core.retrievers import BaseRetriever\n",
    "from langchain_core.documents import Document\n",
    "from langchain_core.pydantic_v1 import Field\n",
    "from sklearn.metrics.pairwise import cosine_similarity\n",
    "import time\n",
    "\n",
    "class ThresholdFilteredRetriever(BaseRetriever):\n",
    "    \"\"\"\n",
    "    A retriever that filters documents retrieved from a base retriever \n",
    "    based on a cosine similarity threshold using a query embedding.\n",
    "\n",
    "    This retriever works by:\n",
    "      1. Retrieving candidate documents using a base retriever.\n",
    "      2. Computing embeddings for the query and documents.\n",
    "      3. Filtering documents whose cosine similarity to the query \n",
    "         is below a specified threshold.\n",
    "      4. Falling back to selecting top-k documents if no documents \n",
    "         pass the threshold.\n",
    "\n",
    "    This improves retrieval precision by ensuring only semantically \n",
    "    relevant documents (above a threshold) are considered.\n",
    "\n",
    "    Args:\n",
    "        base_retriever (BaseRetriever): \n",
    "            The underlying retriever to fetch initial candidate documents.\n",
    "        \n",
    "        embedding_model (Any): \n",
    "            Embedding model providing `embed_query()` and `embed_documents()` \n",
    "            methods for vectorization.\n",
    "        \n",
    "        threshold (float, optional): \n",
    "            Minimum cosine similarity score to retain a document. Defaults to 0.65.\n",
    "        \n",
    "        fallback_topk (int, optional): \n",
    "            Number of top documents to fallback to if none meet the threshold. Defaults to 1.\n",
    "        \n",
    "        callback_handler (Optional[Any], optional): \n",
    "            Optional callback handler for logging document retrieval details.\n",
    "\n",
    "    Attributes:\n",
    "        total_queries (int): \n",
    "            Total number of queries processed.\n",
    "        \n",
    "        total_docs_returned (int): \n",
    "            Total number of documents returned across all queries.\n",
    "        \n",
    "        total_retrieval_time (float): \n",
    "            Total time spent on retrieval operations (in seconds).\n",
    "    \"\"\"\n",
    "    \n",
    "    base_retriever: Any = Field()\n",
    "    embedding_model: Any = Field()\n",
    "    threshold: float = Field(default=0.65)\n",
    "    fallback_topk: int = Field(default=1)\n",
    "    callback_handler: Optional[Any] = Field(default=None)\n",
    "\n",
    "    total_queries: int = Field(default=0)\n",
    "    total_docs_returned: int = Field(default=0)\n",
    "    total_retrieval_time: float = Field(default=0.0)\n",
    "\n",
    "    def _get_relevant_documents(self, query: str) -> List[Document]:\n",
    "        start = time.time()\n",
    "        self.total_queries += 1\n",
    "    \n",
    "        # Support LCEL-wrapped retriever\n",
    "        raw_docs = self.base_retriever.invoke(query)\n",
    "        doc_texts = [doc.page_content for doc in raw_docs]\n",
    "    \n",
    "        if not doc_texts:\n",
    "            return []\n",
    "    \n",
    "        query_emb = self.embedding_model.embed_query(query)\n",
    "        doc_embs = self.embedding_model.embed_documents(doc_texts)\n",
    "        sim_scores = cosine_similarity([query_emb], doc_embs)[0]\n",
    "    \n",
    "        filtered = [(raw_docs[i], sim_scores[i]) for i in range(len(raw_docs)) if sim_scores[i] >= self.threshold]\n",
    "    \n",
    "        if not filtered:\n",
    "            sorted_docs = sorted(zip(raw_docs, sim_scores), key=lambda x: -x[1])\n",
    "            filtered = sorted_docs[:self.fallback_topk]\n",
    "    \n",
    "        final_docs = [doc for doc, _ in filtered]\n",
    "        self.total_docs_returned += len(final_docs)\n",
    "        self.total_retrieval_time += (time.time() - start)\n",
    "    \n",
    "        if self.callback_handler:\n",
    "            self.callback_handler.log_docs(final_docs)\n",
    "    \n",
    "        return final_docs\n",
    "\n",
    "    async def _aget_relevant_documents(self, query: str) -> List[Document]:\n",
    "        return self._get_relevant_documents(query)\n",
    "\n",
    "    def print_metrics(self):\n",
    "        if self.total_queries > 0:\n",
    "            avg_time = self.total_retrieval_time / self.total_queries\n",
    "            avg_docs = self.total_docs_returned / self.total_queries\n",
    "        else:\n",
    "            avg_time = avg_docs = 0\n",
    "        print(f\"\\n Retrieval Metrics\")\n",
    "        print(f\"  ➤ Total Queries: {self.total_queries}\")\n",
    "        print(f\"  ➤ Avg Time per Query: {avg_time:.3f} sec\")\n",
    "        print(f\"  ➤ Avg Docs Returned: {avg_docs:.2f}\")\n",
    "\n"
   ]
  },
  {
   "cell_type": "code",
   "execution_count": null,
   "metadata": {},
   "outputs": [],
   "source": [
    "\n",
    "callback = ConsoleCallbackHandler()\n",
    "\n",
    "# Toggle logging\n",
    "CALLBACK_VERBOSE_LOGGING=True\n",
    "\n",
    "callback_handler = VerboseCallbackHandler(enabled=CALLBACK_VERBOSE_LOGGING)\n",
    "callback_manager = CallbackManager([callback_handler])\n",
    "\n",
    "# llm.callback_manager = callback_manager\n",
    "retriever = retriever.with_config(callbacks=[callback_handler])\n",
    "llm = llm.with_config(callbacks=[callback_handler])\n",
    "\n",
    "# Wrap your retriever with threshold logic\n",
    "filtered_retriever_train = ThresholdFilteredRetriever(\n",
    "    base_retriever=retriever,\n",
    "    embedding_model=embedding_model,\n",
    "    threshold=0.6,\n",
    "    fallback_topk=1,\n",
    "    callback_handler=callback_handler\n",
    ")\n",
    "\n",
    "tagged_rag_chain = RetrievalQA.from_chain_type(\n",
    "    llm=llm,\n",
    "    retriever=filtered_retriever_train,\n",
    "    chain_type=\"stuff\",\n",
    "    return_source_documents=True,\n",
    "    chain_type_kwargs={\"prompt\": prompt_template},\n",
    "    callbacks=[callback_handler],  #  Add callback\n",
    "    verbose=False\n",
    ")"
   ]
  },
  {
   "cell_type": "code",
   "execution_count": null,
   "metadata": {},
   "outputs": [],
   "source": [
    "filtered_retriever_validate = ThresholdFilteredRetriever(\n",
    "    base_retriever=retriever_validate,\n",
    "    embedding_model=embedding_model,\n",
    "    threshold=0.6,\n",
    "    fallback_topk=1,\n",
    "    callback_handler=callback_handler\n",
    ")\n",
    "\n",
    "\n",
    "tagged_rag_chain_validate = RetrievalQA.from_chain_type(\n",
    "\t    llm=llm,\n",
    "\t    retriever=filtered_retriever_validate,\n",
    "\t    chain_type=\"stuff\",\n",
    "\t    return_source_documents=True,\n",
    "\t    chain_type_kwargs={\"prompt\": prompt_template}\n",
    ")"
   ]
  },
  {
   "cell_type": "code",
   "execution_count": null,
   "metadata": {},
   "outputs": [],
   "source": [
    "gc.collect()\n",
    "CALLBACK_VERBOSE_LOGGING=False"
   ]
  },
  {
   "cell_type": "markdown",
   "metadata": {
    "id": "63_KPIGGFm0u"
   },
   "source": [
    "### Compare Async Vs Sync Retrieval from Vector DB"
   ]
  },
  {
   "cell_type": "code",
   "execution_count": null,
   "metadata": {},
   "outputs": [],
   "source": [
    "# import time, asyncio\n",
    "\n",
    "# import nest_asyncio\n",
    "# nest_asyncio.apply()\n",
    "\n",
    "# claims = [train_10K[i]['claim'] for i in range(5)]  # your 100 claims\n",
    "\n",
    "# # Sync\n",
    "# start = time.time()\n",
    "# sync_results = [tagged_rag_chain.invoke({\"query\": c}) for c in claims]\n",
    "# sync_time = time.time() - start\n",
    "# print(f\"⏱️ Sync: {sync_time:.2f} sec\")\n",
    "\n",
    "# # ASYNC\n",
    "# async def run_async_batch():\n",
    "#     tasks = [tagged_rag_chain.ainvoke({\"query\": c}) for c in claims]\n",
    "#     return await asyncio.gather(*tasks)\n",
    "\n",
    "# start = time.time()\n",
    "# async_results = await run_async_batch()  # ✅ for Jupyter\n",
    "# async_time = time.time() - start\n",
    "# print(f\"⚡ Async: {time.time() - start:.2f} sec\")\n"
   ]
  },
  {
   "cell_type": "code",
   "execution_count": null,
   "metadata": {},
   "outputs": [],
   "source": [
    "\n",
    "# # Bar chart setup\n",
    "# methods = ['Sync', 'Async']\n",
    "# times = [sync_time, async_time]\n",
    "\n",
    "# plt.figure(figsize=(8, 5))\n",
    "# bars = plt.bar(methods, times, color=[\"steelblue\", \"mediumseagreen\"])\n",
    "# plt.title(\"Sync vs Async Retrieval + Generation Time\")\n",
    "# plt.ylabel(\"Time (seconds)\")\n",
    "# plt.xlabel(\"Execution Method\")\n",
    "\n",
    "# # Annotate bars neatly above center\n",
    "# for bar in bars:\n",
    "#     yval = bar.get_height()\n",
    "#     plt.text(bar.get_x() + bar.get_width() / 2, yval + 0.1, f\"{yval:.1f}s\", ha='center', va='bottom')\n",
    "\n",
    "# plt.ylim(0, max(times) + 1)\n",
    "# plt.tight_layout()\n",
    "# plt.show()\n"
   ]
  },
  {
   "cell_type": "markdown",
   "metadata": {
    "id": "bg9zzyr5Fm0u"
   },
   "source": [
    "###  EXECUTION on one Claim"
   ]
  },
  {
   "cell_type": "code",
   "execution_count": null,
   "metadata": {},
   "outputs": [],
   "source": [
    "# Run just one sample for explainability\n",
    "CALLBACK_VERBOSE_LOGGING=True\n",
    "sample = train_10K[200]\n",
    "claim = sample['claim']\n",
    "result = tagged_rag_chain({\"query\": claim})\n",
    "documents = result['source_documents']\n",
    "doc_texts = [doc.page_content for doc in documents]\n"
   ]
  },
  {
   "cell_type": "code",
   "execution_count": null,
   "metadata": {},
   "outputs": [],
   "source": [
    "# print(result['source_documents'])\n",
    "generated_answers=[result['result']]"
   ]
  },
  {
   "cell_type": "code",
   "execution_count": null,
   "metadata": {},
   "outputs": [],
   "source": [
    "pred_label = extract_label_from_answer_block(result[\"result\"])\n",
    "print(\"actual=\",sample['label'],\", predicted=\",pred_label)"
   ]
  },
  {
   "cell_type": "code",
   "execution_count": null,
   "metadata": {},
   "outputs": [],
   "source": [
    "# Turn OFF the DETAILED LLM Chain LOGGING\n",
    "CALLBACK_VERBOSE_LOGGING=False"
   ]
  },
  {
   "cell_type": "code",
   "execution_count": null,
   "metadata": {},
   "outputs": [],
   "source": []
  },
  {
   "cell_type": "markdown",
   "metadata": {
    "id": "X0uCMKUyFm0v"
   },
   "source": [
    "# === 9 a). Explainable AI (Captum Saliency) ==="
   ]
  },
  {
   "cell_type": "code",
   "execution_count": null,
   "metadata": {},
   "outputs": [],
   "source": [
    "def build_input_text_with_evidence(claim, doc_texts, tokenizer, max_tokens=512):\n",
    "    \"\"\"\n",
    "    Safely build a prompt including the claim and as many evidence chunks as fit within max_tokens.\n",
    "\n",
    "    Args:\n",
    "        claim (str): The claim string.\n",
    "        doc_texts (list): List of evidence strings.\n",
    "        tokenizer: HuggingFace tokenizer to count tokens.\n",
    "        max_tokens (int): Max allowed token length (for Mistral, keep ≤ 2048, safer ~512-1024).\n",
    "\n",
    "    Returns:\n",
    "        str: Truncated prompt with claim + partial evidence.\n",
    "    \"\"\"\n",
    "    header = f\"\"\n",
    "    current_token_count = len(tokenizer.encode(header))\n",
    "\n",
    "    included_evidence = []\n",
    "\n",
    "    for i, doc in enumerate(doc_texts):\n",
    "        entry = f\"{i+1}. {doc.strip()}\\n\"\n",
    "        tokens = len(tokenizer.encode(entry))\n",
    "        if current_token_count + tokens <= max_tokens:\n",
    "            included_evidence.append(entry)\n",
    "            current_token_count += tokens\n",
    "        else:\n",
    "            break\n",
    "\n",
    "    return header + \"\".join(included_evidence)"
   ]
  },
  {
   "cell_type": "code",
   "execution_count": null,
   "metadata": {},
   "outputs": [],
   "source": [
    "# model.eval()\n",
    "\n",
    "label_token = pred_label  # or REFUTED, etc.\n",
    "\n",
    "context = build_input_text_with_evidence(claim, doc_texts, max_tokens=512, tokenizer=tokenizer)\n",
    "input_text = prompt_template.format(question=claim, context=context)\n",
    "\n",
    "# Tokenize input\n",
    "inputs = tokenizer(input_text, return_tensors=\"pt\")\n",
    "input_ids = inputs[\"input_ids\"].to(model.device)\n",
    "attention_mask = inputs[\"attention_mask\"].to(model.device)\n",
    "\n",
    "\n",
    "# Get input embeddings for Captum\n",
    "input_embeddings = model.get_input_embeddings()(input_ids)\n",
    "input_embeddings.requires_grad_()\n",
    "\n",
    "# Token ID of predicted label\n",
    "label_token_id = tokenizer(pred_label, add_special_tokens=False)[\"input_ids\"][0]\n",
    "print(label_token_id)\n",
    "\n",
    "# === 3. Define a forward function that returns scalar logit for predicted label ===\n",
    "\n",
    "def forward_func(embeddings):\n",
    "    outputs = model(inputs_embeds=embeddings, attention_mask=attention_mask)\n",
    "    return outputs.logits[:, -1, label_token_id]  # Attribution at position the model starts generating\n"
   ]
  },
  {
   "cell_type": "code",
   "execution_count": null,
   "metadata": {},
   "outputs": [],
   "source": [
    "ig = IntegratedGradients(forward_func)\n",
    "attributions, delta = ig.attribute(input_embeddings,\n",
    "                            internal_batch_size=1,\n",
    "                            return_convergence_delta=True,\n",
    "                            n_steps=30) # TODO : make it 20 or 30 for COLAB"
   ]
  },
  {
   "cell_type": "code",
   "execution_count": null,
   "metadata": {},
   "outputs": [],
   "source": [
    "# Normalize and summarize\n",
    "def summarize_attributions(attributions):\n",
    "    attributions = attributions.sum(dim=-1).squeeze(0)\n",
    "    return attributions / torch.norm(attributions)\n",
    "\n",
    "summarized = summarize_attributions(attributions)"
   ]
  },
  {
   "cell_type": "code",
   "execution_count": null,
   "metadata": {},
   "outputs": [],
   "source": [
    "tokens = tokenizer.convert_ids_to_tokens(input_ids[0])\n",
    "scores = summarized.detach().cpu().to(torch.float32).numpy()\n",
    "\n",
    "# Pair tokens and scores, sort\n",
    "token_score_pairs = list(zip(tokens, scores))\n",
    "sorted_pairs = sorted(token_score_pairs, key=lambda x: x[1], reverse=True)\n"
   ]
  },
  {
   "cell_type": "code",
   "execution_count": null,
   "metadata": {},
   "outputs": [],
   "source": [
    "def merge_tokens_and_scores(tokens, scores):\n",
    "    merged = []\n",
    "    current_word = \"\"\n",
    "    current_score = 0.0\n",
    "    count = 0\n",
    "\n",
    "    for tok, score in zip(tokens, scores):\n",
    "        if tok.startswith(\"▁\"):  # New word\n",
    "            if current_word:\n",
    "                merged.append((current_word, current_score / count))\n",
    "            current_word = tok[1:]\n",
    "            current_score = score\n",
    "            count = 1\n",
    "        else:\n",
    "            current_word += tok\n",
    "            current_score += score\n",
    "            count += 1\n",
    "\n",
    "    if current_word:\n",
    "        merged.append((current_word, current_score / count))\n",
    "\n",
    "    return sorted(merged, key=lambda x: x[1], reverse=True)\n",
    "\n",
    "merged_words = merge_tokens_and_scores(tokens, scores)\n",
    "# for word, score in merged_words[:50]:\n",
    "#     print(f\"{word:50s} : {score:.4f}\")\n",
    "\n",
    "# Plot\n",
    "# Take top 20 words by attribution score\n",
    "top_words = merged_words[:30]\n",
    "words, word_scores = zip(*top_words)\n",
    "\n",
    "# Plot\n",
    "plt.figure(figsize=(10, 10))\n",
    "plt.barh(words[2:][::-1], word_scores[2:][::-1])\n",
    "plt.xlabel(\"Attribution Score\")\n",
    "plt.title(\"Top 30 Influential Words (Captum Attribution)\")\n",
    "plt.tight_layout()\n",
    "plt.show()"
   ]
  },
  {
   "cell_type": "markdown",
   "metadata": {
    "id": "9bZ64HzMFm0v"
   },
   "source": [
    "### Heatmap of top token attributions"
   ]
  },
  {
   "cell_type": "code",
   "execution_count": null,
   "metadata": {},
   "outputs": [],
   "source": [
    "from IPython.display import display, HTML\n",
    "def normalize_percentile(scores, low=2, high=98):\n",
    "    arr = np.array(scores)\n",
    "    vmin = np.percentile(arr, low)\n",
    "    vmax = np.percentile(arr, high)\n",
    "    vmax = max(vmax, vmin + 1e-6)  # prevent divide-by-zero\n",
    "    return arr, vmin, vmax\n",
    "\n",
    "def highlight_tokens_colored(merged_words, cmap=matplotlib.cm.coolwarm, use_percentile=True):\n",
    "    raw_scores = [score for _, score in merged_words]\n",
    "\n",
    "    if use_percentile:\n",
    "        scores, vmin, vmax = normalize_percentile(raw_scores)\n",
    "    else:\n",
    "        scores = np.array(raw_scores)\n",
    "        vmin, vmax = min(scores), max(scores) + 1e-6\n",
    "\n",
    "    norm = matplotlib.colors.Normalize(vmin=vmin, vmax=vmax)\n",
    "\n",
    "    html = \"\"\n",
    "    for (word, _), score in zip(merged_words, scores):\n",
    "        rgba = cmap(norm(score))\n",
    "        r, g, b, _ = [int(x * 255) for x in rgba]\n",
    "        html += f'<span style=\"background-color: rgba({r},{g},{b}, 0.6); padding:2px; margin:1px;\">{word}</span> '\n",
    "\n",
    "    display(HTML(f\"<div style='font-family:monospace; line-height:1.6;'>{html}</div>\"))\n",
    "\n",
    "highlight_tokens_colored(merged_words)"
   ]
  },
  {
   "cell_type": "code",
   "execution_count": null,
   "metadata": {},
   "outputs": [],
   "source": [
    "from captum.attr import visualization as viz\n",
    "tokens = tokens[:100]\n",
    "scores = scores[:100]\n",
    "\n",
    "record = viz.VisualizationDataRecord(\n",
    "    scores,                 # word_attributions\n",
    "    0.0,                    # pred_prob\n",
    "    pred_label,            # pred_class\n",
    "    sample['label'],            # true_class\n",
    "   sample['label'],            # attr_class\n",
    "    scores.sum(),           # attr_score\n",
    "    tokens,                 # raw_input (tokens as list)\n",
    "    delta.item()                       # convergence_score (use 0 if not IG)\n",
    ")\n",
    "\n",
    "viz.visualize_text([record])"
   ]
  },
  {
   "cell_type": "markdown",
   "metadata": {
    "id": "FZhkmGjQFm0v"
   },
   "source": [
    "#### Insights \n",
    " - Model Decision: The model accurately classified the claim (\"Suicide Kings is a film from the United States.\") as \"SUPPORTS\" based on provided evidence (\"Suicide Kings is a 1997 American mystery crime film...\").\n",
    "\n",
    "- Attribution Insights (Captum):\n",
    "\n",
    "     - The words \"film,\" \"suicide,\" \"Kings,\" and \"1997\" have significant positive contributions, indicating they strongly influenced the classification decision.\n",
    "\n",
    "     - The visualization and heatmap clearly show the word \"film\" as the most influential feature, with the highest attribution score.\n",
    "\n",
    "- Token-Level Visualization:\n",
    "\n",
    "  - The Captum text visualization further confirms \"film,\" \"suicide,\" and \"Kings\" as critical tokens for classification, aligning well with the intended logical reasoning process of the classifier.\n",
    "\n",
    "**In summary**, Captum's attribution techniques successfully highlighted critical evidence tokens contributing to the accurate claim verification by the model.\n",
    "\n",
    "### Limitations of Captum - Mistral integration\n",
    "Due to model size, attributions are computed over truncated context of top-ranked evidence chunks”\n",
    "- Further with limited n_steps=30 in the IntegratedGradients(...)\n",
    "- Mistral (and most LLMs) heavily weight boilerplate like \"Your answer:\", and \"the\" especially if seen frequently during training."
   ]
  },
  {
   "cell_type": "markdown",
   "metadata": {
    "id": "6VpP-iQHFm0v"
   },
   "source": [
    "##  === 9 b). Explainable AI - SHAP for XAI - Does not Integrate with MISTRAL"
   ]
  },
  {
   "cell_type": "code",
   "execution_count": null,
   "metadata": {},
   "outputs": [],
   "source": [
    "import shap\n",
    "\n",
    "def extract_final_label(text):\n",
    "    \"\"\"\n",
    "    Extracts the final classification word from model output.\n",
    "    Returns one of: SUPPORTS, REFUTES, NOT ENOUGH INFO, or UNKNOWN\n",
    "    \"\"\"\n",
    "    valid_labels = {\"SUPPORTS\", \"REFUTES\", \"NOT ENOUGH INFO\"}\n",
    "\n",
    "    # Search for the last valid label after \"YOUR ANSWER:\"\n",
    "    match = re.search(r\"YOUR ANSWER:\\s*(SUPPORTS|REFUTES|NOT ENOUGH INFO)\\b\", text.upper())\n",
    "\n",
    "    if match:\n",
    "        return match.group(1)\n",
    "    return \"UNKNOWN\"\n",
    "\n",
    "\n",
    "def qwen2_predict(texts):\n",
    "    # Make sure each input is converted to plain Python string\n",
    "\n",
    "    str_inputs = [str(t) for t in texts]\n",
    "    # print(str_inputs)\n",
    "    results = gen_pipeline(str_inputs, max_new_tokens=30)\n",
    "    # print(results)\n",
    "    outputs = []\n",
    "    for res in results:\n",
    "        t = res[0][\"generated_text\"].upper()\n",
    "        output_text = extract_final_label(t)\n",
    "        if \"SUPPORTS\" in output_text:\n",
    "            outputs.append([1, 0, 0])\n",
    "        elif \"REFUTES\" in output_text:\n",
    "            outputs.append([0, 1, 0])\n",
    "        else:\n",
    "            outputs.append([0, 0, 1])\n",
    "    return np.array(outputs)\n",
    "\n"
   ]
  },
  {
   "cell_type": "code",
   "execution_count": null,
   "metadata": {},
   "outputs": [],
   "source": [
    "\n",
    "explainer = shap.Explainer(qwen2_predict, tokenizer)\n",
    "shap_values = explainer([prompt_template.format(question=claim, context = doc_texts[0])])\n",
    "shap.plots.text(shap_values[0])  # Visual heatmap"
   ]
  },
  {
   "cell_type": "markdown",
   "metadata": {
    "id": "mEsIsw1mFm0v"
   },
   "source": [
    "#### Insights \n",
    " - Model Decision: The model accurately classified the claim (\"Suicide Kings is a film from the United States.\") as \"SUPPORTS\" based on provided evidence (\"Suicide Kings is a 1997 American mystery crime film...\").\n",
    "\n",
    "- Attribution Insights (Captum):\n",
    "\n",
    "     - The words \"film,\" \"suicide,\" \"Kings,\" and \"1997\" have significant positive contributions, indicating they strongly influenced the classification decision.\n",
    "\n",
    "     - The visualization and heatmap clearly show the word \"film\" as the most influential feature, with the highest attribution score.\n",
    "\n",
    "- Token-Level Visualization:\n",
    "\n",
    "  - The Captum text visualization further confirms \"film,\" \"suicide,\" and \"Kings\" as critical tokens for classification, aligning well with the intended logical reasoning process of the classifier.\n",
    "\n",
    "**In summary**, Captum's attribution techniques successfully highlighted critical evidence tokens contributing to the accurate claim verification by the model.\n",
    "\n",
    "### Limitations of Captum - Mistral integration\n",
    "Due to model size, attributions are computed over truncated context of top-ranked evidence chunks”\n",
    "- Further with limited n_steps=30 in the IntegratedGradients(...)\n",
    "- Mistral (and most LLMs) heavily weight boilerplate like \"Your answer:\", and \"the\" especially if seen frequently during training."
   ]
  },
  {
   "cell_type": "markdown",
   "metadata": {
    "id": "JAMicdJqFm0v"
   },
   "source": [
    "##  === 9 c). Explainable AI - LIME Integration ==="
   ]
  },
  {
   "cell_type": "code",
   "execution_count": null,
   "metadata": {},
   "outputs": [],
   "source": [
    "from lime.lime_text import LimeTextExplainer\n",
    "\n",
    "def lime_predict(texts):\n",
    "    outputs = []\n",
    "    for text in texts:\n",
    "        result = gen_pipeline(text, max_new_tokens=512)[0]['generated_text']\n",
    "        lb = extract_label_from_answer_block(result)\n",
    "        if \"SUPPORTS\" in sample['label']:\n",
    "            outputs.append([1, 0, 0])\n",
    "        elif \"REFUTES\" in sample['label']:\n",
    "            outputs.append([0, 1, 0])\n",
    "        else:\n",
    "            outputs.append([0, 0, 1])\n",
    "    return np.array(outputs)"
   ]
  },
  {
   "cell_type": "code",
   "execution_count": null,
   "metadata": {},
   "outputs": [],
   "source": [
    "inp= f\"SUPPORTS, REFUTES, or NOT ENOUGH INFO. Give one word asnwer? Claim: {claim}\\nEvidence:\\n\" + \"\\n\".join(doc_texts)\n",
    "class_names = [\"SUPPORTS\", \"REFUTES\", \"NOT ENOUGH INFO\"]\n",
    "explainer = LimeTextExplainer(class_names=class_names)\n",
    "exp = explainer.explain_instance(\n",
    "    # prompt_template.format(\n",
    "    #     question=claim,\n",
    "    #     context=\"\\n\".join(doc_texts)\n",
    "    # ),\n",
    "    inp,\n",
    "    lime_predict,\n",
    "    num_features=25,\n",
    "    num_samples=3\n",
    ")\n",
    "exp.show_in_notebook(text=True)"
   ]
  },
  {
   "attachments": {
    "e3cd2d7a-a694-495a-966e-297fc0eed1ff.png": {
     "image/png": "[encoded data removed]"
    }
   },
   "cell_type": "markdown",
   "metadata": {},
   "source": [
    "![image.png](attachment:e3cd2d7a-a694-495a-966e-297fc0eed1ff.png)"
   ]
  },
  {
   "cell_type": "markdown",
   "metadata": {
    "id": "K48b9IrBFm0v"
   },
   "source": [
    "**Insights**\n",
    "- LIME correctly highlights factually relevant tokens:\n",
    "   - \"suicide kings\", \"1997\", \"american\", \"crime film\", \"based on\"\n",
    "- These are key evidence tokens that support the claim \"Suicide Kings is a film from the United States.\"\n",
    "- All other probabilities are shown as 0 — possibly a rounding/rendering issue).\n",
    "- The focus is on \"Claim\" and \"Evidence\" content — exactly what we want.\n"
   ]
  },
  {
   "cell_type": "markdown",
   "metadata": {
    "id": "sUkzmnz7Fm0v"
   },
   "source": [
    "###  === 9 d). Explainable AI --  LangChain Callbacks: Full Pipeline Logging ==="
   ]
  },
  {
   "cell_type": "markdown",
   "metadata": {
    "id": "5yhtUK4sFm0v"
   },
   "source": [
    "**Below we showcase complete Rag chain pipeline tracing**\n",
    "- From retriever, to evidence collected, and LLM decision\n",
    "- Time logged at each stage"
   ]
  },
  {
   "cell_type": "code",
   "execution_count": null,
   "metadata": {},
   "outputs": [],
   "source": [
    "CALLBACK_VERBOSE_LOGGING=True\n",
    "sample = train_10K[201]\n",
    "claim = sample['claim']\n",
    "result = tagged_rag_chain({\"query\": claim})\n",
    "print(\"label=\",sample['label'])\n",
    "CALLBACK_VERBOSE_LOGGING=False"
   ]
  },
  {
   "cell_type": "code",
   "execution_count": null,
   "metadata": {},
   "outputs": [],
   "source": []
  },
  {
   "cell_type": "markdown",
   "metadata": {
    "id": "FrejdZQTFm0w"
   },
   "source": [
    "## === Explanable AI - LIT (Language Interpretability Tool) ==="
   ]
  },
  {
   "cell_type": "code",
   "execution_count": null,
   "metadata": {},
   "outputs": [],
   "source": [
    "# !pip install -U git+https://github.com/PAIR-code/lit.git@main#egg=lit-nlp\n",
    "# !pip install --upgrade lit-nlp"
   ]
  },
  {
   "cell_type": "markdown",
   "metadata": {
    "id": "f_z_h9KzV02j"
   },
   "source": [
    "### We tried LIT, but it has limited Notebook support"
   ]
  },
  {
   "cell_type": "code",
   "execution_count": null,
   "metadata": {},
   "outputs": [],
   "source": [
    "from lit_nlp.api import model as lit_model\n",
    "from lit_nlp.api import types as lit_types\n",
    "from lit_nlp.api import dataset as lit_dataset\n",
    "from lit_nlp import notebook\n",
    "\n",
    "# 1. Define your LLM wrapper\n",
    "class MistralWrapper(lit_model.Model):\n",
    "    def __init__(self, pipeline):\n",
    "        self.pipeline = pipeline\n",
    "\n",
    "    def predict(self, inputs):\n",
    "        outputs = []\n",
    "        for ex in inputs:\n",
    "            response = self.pipeline(ex['text'], max_new_tokens=64)[0][\"generated_text\"]\n",
    "            outputs.append({\"prediction\": response})\n",
    "        return outputs\n",
    "\n",
    "    def input_spec(self):\n",
    "        return {\"text\": lit_types.TextSegment()}\n",
    "\n",
    "    def output_spec(self):\n",
    "        return {\"prediction\": lit_types.GeneratedText()}\n",
    "\n",
    "# 2. Define your dataset\n",
    "class FEVERDataset(lit_dataset.Dataset):\n",
    "    \"\"\"LIT-compatible Dataset for FEVER claims.\"\"\"\n",
    "\n",
    "    def __init__(self, examples):\n",
    "        \"\"\"\n",
    "        Args:\n",
    "            examples: List of dicts, each with at least {'claim', 'label'}.\n",
    "        \"\"\"\n",
    "        self._examples = []\n",
    "        for ex in examples:\n",
    "            self._examples.append({\n",
    "                \"text\": ex[\"claim\"],\n",
    "                \"label\": ex[\"label\"],\n",
    "                # Optional if you have evidence:\n",
    "                \"evidence\": ex.get(\"label\", \"\"),\n",
    "            })\n",
    "\n",
    "    def __len__(self):\n",
    "        return len(self._examples)\n",
    "\n",
    "    def __getitem__(self, i):\n",
    "        return self._examples[i]\n",
    "\n",
    "    def spec(self):\n",
    "        \"\"\"Field specification for LIT UI.\"\"\"\n",
    "        return {\n",
    "            \"text\": lit_types.TextSegment(),\n",
    "            \"label\": lit_types.CategoryLabel(vocab=[\"SUPPORTS\", \"REFUTES\", \"NOT ENOUGH INFO\"]),\n",
    "            # Optional:\n",
    "            \"evidence\": lit_types.TextSegment(),\n",
    "        }\n",
    "\n",
    "# 3. Initialize model and dataset\n",
    "model = MistralWrapper(gen_pipeline)\n",
    "data = FEVERDataset(train.select(range(5)))\n",
    "\n",
    "lit_widget = notebook.LitWidget(models={\"mistral\": model}, datasets={\"fever\": data})\n",
    "lit_widget.render()\n"
   ]
  },
  {
   "cell_type": "markdown",
   "metadata": {},
   "source": [
    "# PUT A SCRREENSHOT FROM COLAB OUTPUT"
   ]
  },
  {
   "cell_type": "markdown",
   "metadata": {
    "id": "nOZY540lFm0w"
   },
   "source": [
    "# == RAG Evaluation and Metrices =="
   ]
  },
  {
   "cell_type": "markdown",
   "metadata": {
    "id": "0-oyx8AvFm0w"
   },
   "source": [
    "##  Evaluate ACCURACY : Model with RAG VS without RAG"
   ]
  },
  {
   "cell_type": "markdown",
   "metadata": {
    "id": "HSaWkU4FFm0w"
   },
   "source": [
    "#### With RAG."
   ]
  },
  {
   "cell_type": "code",
   "execution_count": null,
   "metadata": {},
   "outputs": [],
   "source": [
    "from tqdm import tqdm\n",
    "from sklearn.metrics import accuracy_score, classification_report, confusion_matrix\n",
    "import seaborn as sns\n",
    "import matplotlib.pyplot as plt\n",
    "\n",
    "def evaluate_rag_chain_accuracy(claim_dataset, rag_chain, label_field=\"label\", num_samples=1000):\n",
    "    \"\"\"\n",
    "    Evaluates the RAG chain on a dataset of claims.\n",
    "\n",
    "    Args:\n",
    "        claim_dataset: HuggingFace Dataset or list of dicts with 'claim' and 'label'\n",
    "        rag_chain: LangChain RetrievalQA object\n",
    "        label_field: field containing true label (default: \"label\")\n",
    "        num_samples: number of claims to evaluate\n",
    "\n",
    "    Returns:\n",
    "        pred_labels, true_labels\n",
    "    \"\"\"\n",
    "\n",
    "    true_labels = []\n",
    "    pred_labels = []\n",
    "\n",
    "    for sample in tqdm(claim_dataset.select(range(num_samples)), desc=\"Evaluating RAG\", ncols=100):\n",
    "        claim = sample[\"claim\"]\n",
    "        true_label = sample[label_field].upper()\n",
    "\n",
    "        try:\n",
    "            result = rag_chain({\"query\": claim})\n",
    "            model_output = result[\"result\"]\n",
    "            pred_label = extract_label_from_answer_block(model_output)\n",
    "        except Exception as e:\n",
    "            print(f\" Error for claim: {claim[:50]}... | {str(e)}\")\n",
    "            pred_label = \"UNKNOWN\"\n",
    "\n",
    "        true_labels.append(true_label)\n",
    "        pred_labels.append(pred_label)\n",
    "\n",
    "    # Evaluation\n",
    "    accuracy = accuracy_score(true_labels, pred_labels)\n",
    "    print(f\"\\n Accuracy: {accuracy:.4f}\")\n",
    "    print(\"\\n Classification Report:\\n\", classification_report(true_labels, pred_labels))\n",
    "\n",
    "    # Plot confusion matrix\n",
    "    cm = confusion_matrix(true_labels, pred_labels, labels=[\"SUPPORTS\", \"REFUTES\", \"NOT ENOUGH INFO\"])\n",
    "    plt.figure(figsize=(8, 6))\n",
    "    sns.heatmap(cm, annot=True, fmt='d', xticklabels=[\"SUPPORTS\", \"REFUTES\", \"NOT ENOUGH INFO\"],\n",
    "                yticklabels=[\"SUPPORTS\", \"REFUTES\", \"NOT ENOUGH INFO\"], cmap=\"Blues\")\n",
    "    plt.title(\"Confusion Matrix\")\n",
    "    plt.xlabel(\"Predicted\")\n",
    "    plt.ylabel(\"True\")\n",
    "    plt.show()\n",
    "\n",
    "    return pred_labels, true_labels\n"
   ]
  },
  {
   "cell_type": "code",
   "execution_count": null,
   "metadata": {},
   "outputs": [],
   "source": [
    "# Load dataset\n",
    "ds = validation_1K\n",
    "\n",
    "# Run evaluation\n",
    "pred_labels,true_labels = evaluate_rag_chain_accuracy(ds, tagged_rag_chain_validate, num_samples=200)\n"
   ]
  },
  {
   "cell_type": "code",
   "execution_count": null,
   "metadata": {},
   "outputs": [],
   "source": []
  },
  {
   "cell_type": "markdown",
   "metadata": {
    "id": "BnAKwhV3Fm0w"
   },
   "source": [
    "#### Without RAG."
   ]
  },
  {
   "cell_type": "code",
   "execution_count": null,
   "metadata": {},
   "outputs": [],
   "source": [
    "\n",
    "# --- Load Dataset (100 claims) ---\n",
    "eval_subset = validation.select(range(100))\n",
    "\n",
    "# --- Prompt Template ---\n",
    "prompt_template_temp = \"\"\"You are a fact-checking assistant.\n",
    "Given a claim, classify it as one of: SUPPORTS, REFUTES, or NOT ENOUGH INFO. Do not give reasoning.\n",
    "\n",
    "Claim: {claim}\n",
    "\n",
    "Your answer:\n",
    "\"\"\"\n",
    "\n",
    "# prompt = prompt_template_temp.format(claim=eval_subset[0]['claim'])\n",
    "# print(prompt)\n",
    "# response = gen_pipeline(prompt, do_sample=False)[0]['generated_text'].upper()\n",
    "# response"
   ]
  },
  {
   "cell_type": "markdown",
   "metadata": {
    "id": "4W8-Unc_4Qky"
   },
   "source": []
  },
  {
   "cell_type": "code",
   "execution_count": null,
   "metadata": {},
   "outputs": [],
   "source": [
    "\n",
    "# --- Evaluation Lists ---\n",
    "true_labels_wp = []\n",
    "pred_labels_wo = []\n",
    "\n",
    "# --- TQDM Loop ---\n",
    "for sample in tqdm(eval_subset, desc=\"Evaluating without RAG\", unit=\"sample\"):\n",
    "    claim = sample['claim']\n",
    "    true_label = sample['label'].upper()\n",
    "\n",
    "    prompt = prompt_template_temp.format(claim=claim)\n",
    "    response = gen_pipeline(prompt, do_sample=False)[0]['generated_text'].upper()\n",
    "\n",
    "    pred_label = extract_label_from_answer_block(response)\n",
    "\n",
    "    true_labels_wp.append(true_label)\n",
    "    pred_labels_wo.append(pred_label)\n",
    "\n",
    "# --- Evaluation ---\n",
    "accuracy = accuracy_score(true_labels_wp, pred_labels_wo)\n",
    "print(f\"\\nAccuracy: {accuracy:.4f}\")\n",
    "print(\"\\n Classification Report:\\n\", classification_report(true_labels_wp, pred_labels_wo))\n",
    "\n",
    "# --- Confusion Matrix ---\n",
    "labels = [\"SUPPORTS\", \"REFUTES\", \"NOT ENOUGH INFO\"]\n",
    "cm = confusion_matrix(true_labels_wp, pred_labels_wo, labels=labels)\n",
    "\n",
    "plt.figure(figsize=(6, 5))\n",
    "sns.heatmap(cm, annot=True, fmt=\"d\", cmap=\"Blues\", xticklabels=labels, yticklabels=labels)\n",
    "plt.xlabel(\"Predicted\")\n",
    "plt.ylabel(\"True\")\n",
    "plt.title(\"Confusion Matrix (LLM w/o RAG)\")\n",
    "plt.show()\n"
   ]
  },
  {
   "cell_type": "code",
   "execution_count": null,
   "metadata": {},
   "outputs": [],
   "source": []
  },
  {
   "cell_type": "markdown",
   "metadata": {
    "id": "ttbj0jyJFm0w"
   },
   "source": [
    "## === Visualizations ==="
   ]
  },
  {
   "cell_type": "markdown",
   "metadata": {
    "id": "WAffiKBGFm0w"
   },
   "source": [
    "#### Aggregate Average Similarity Across All Claims : How well retriever is doing ?"
   ]
  },
  {
   "cell_type": "code",
   "execution_count": null,
   "metadata": {},
   "outputs": [],
   "source": [
    "# Compute cosine similarity between each claim and its top-k retrieved evidences, then average the similarity scores across samples.\n",
    "\n",
    "similarity_matrix = []\n",
    "\n",
    "for sample in train.select(range(10)):\n",
    "    claim = sample['claim']\n",
    "    result = tagged_rag_chain({\"query\": claim})\n",
    "    evidence_texts = [doc.page_content for doc in result['source_documents']]\n",
    "\n",
    "    if not evidence_texts:\n",
    "        continue  # skip if no retrieved docs\n",
    "\n",
    "    claim_emb = embedding_model.embed_query(claim)\n",
    "    evidence_embs = embedding_model.embed_documents(evidence_texts)\n",
    "\n",
    "    sim_scores = cosine_similarity([claim_emb], evidence_embs)[0]  # shape (top_k,)\n",
    "    similarity_matrix.append(sim_scores)\n",
    "\n",
    "# Convert to numpy and pad to same length if needed\n",
    "max_k = max(len(row) for row in similarity_matrix)\n",
    "padded_matrix = np.array([np.pad(row, (0, max_k - len(row))) for row in similarity_matrix])\n",
    "avg_scores = np.mean(padded_matrix, axis=0)\n",
    "\n",
    "# Plot average similarity\n",
    "sns.heatmap([avg_scores], annot=True, cmap=\"YlGnBu\")\n",
    "plt.xlabel(\"Evidence Index\")\n",
    "plt.title(\"Average Claim-Evidence Similarity (10 Claims)\")\n",
    "plt.show()"
   ]
  },
  {
   "cell_type": "markdown",
   "metadata": {
    "id": "n6N_PyAAFm0w"
   },
   "source": [
    "**What it shows**\n",
    "- The top evidence (index 0) is aligned with claim (0.71). This is quite relevant\n",
    "- Retriever is doing a good job for the top 1 or 2, but recall could be improved at rank 3–5"
   ]
  },
  {
   "cell_type": "markdown",
   "metadata": {
    "id": "hf29_YPkFm0w"
   },
   "source": [
    "### Pie Chart for Prediction Label Distribution for RAG based output"
   ]
  },
  {
   "cell_type": "code",
   "execution_count": null,
   "metadata": {},
   "outputs": [],
   "source": [
    "from collections import Counter\n",
    "label_counts = Counter(pred_labels)\n",
    "labels = list(label_counts.keys())\n",
    "sizes = list(label_counts.values())\n",
    "\n",
    "plt.pie(sizes, labels=labels, autopct='%1.1f%%', startangle=140)\n",
    "plt.title(\"Model Prediction Distribution\")\n",
    "plt.axis('equal')\n",
    "plt.show()\n"
   ]
  },
  {
   "cell_type": "markdown",
   "metadata": {
    "id": "6uU69HTWFm0w"
   },
   "source": [
    "### True vs Predicted Label Distribution for RAG based output"
   ]
  },
  {
   "cell_type": "code",
   "execution_count": null,
   "metadata": {},
   "outputs": [],
   "source": [
    "# Count frequencies\n",
    "true_counts = Counter(true_labels)\n",
    "pred_counts = Counter(pred_labels)\n",
    "\n",
    "# Ensure consistent label order\n",
    "all_labels = sorted(list(set(true_counts.keys()) | set(pred_counts.keys())))\n",
    "\n",
    "true_values = [true_counts.get(label, 0) for label in all_labels]\n",
    "pred_values = [pred_counts.get(label, 0) for label in all_labels]\n",
    "\n",
    "# Bar plot setup\n",
    "x = np.arange(len(all_labels))\n",
    "width = 0.35\n",
    "\n",
    "plt.figure(figsize=(8, 5))\n",
    "plt.bar(x - width/2, true_values, width, label=\"True Labels\")\n",
    "plt.bar(x + width/2, pred_values, width, label=\"Predicted Labels\")\n",
    "\n",
    "plt.ylabel(\"Count\")\n",
    "plt.title(\"True vs Predicted Label Distribution\")\n",
    "plt.xticks(x, all_labels, rotation=15)\n",
    "plt.legend()\n",
    "plt.tight_layout()\n",
    "plt.show()\n"
   ]
  },
  {
   "cell_type": "markdown",
   "metadata": {
    "id": "IESVzoz-Fm0w"
   },
   "source": [
    "### Refer Project report for Analysis\n",
    "- Mistral-7B model performed poorly, especially on the Refutes class (recall = 0.07), indicating over-reliance on the Supports & NEI label."
   ]
  },
  {
   "cell_type": "markdown",
   "metadata": {
    "id": "nAnAjHQqFm0w"
   },
   "source": [
    "## ===== RAG statistics via RAGAS ======\n",
    "\n",
    "- Since it takes a long time, we evaluate only a few claims to get the RAGAS metrics\n"
   ]
  },
  {
   "cell_type": "code",
   "execution_count": null,
   "metadata": {},
   "outputs": [],
   "source": [
    "class RAGASLLM(LLM):\n",
    "    tokenizer: AutoTokenizer = None\n",
    "    model: AutoModelForCausalLM = None\n",
    "\n",
    "    def __init__(self, _model, tokenizer):\n",
    "        super().__init__()\n",
    "        self.model = _model\n",
    "        self.tokenizer = tokenizer\n",
    "\n",
    "    def _call(self, prompt: str, stop: Optional[List[str]] = None,\n",
    "              run_manager: Optional[CallbackManagerForLLMRun] = None, **kwargs: Any) -> str:\n",
    "        messages = [{\"role\": \"user\", \"content\": prompt}]\n",
    "        input_ids = self.tokenizer.apply_chat_template(messages, tokenize=False, add_generation_prompt=True)\n",
    "        inputs = self.tokenizer([input_ids], return_tensors=\"pt\").to(self.model.device)\n",
    "        outputs = self.model.generate(inputs.input_ids, max_new_tokens=512)\n",
    "        generated = outputs[:, inputs.input_ids.shape[-1]:]\n",
    "        decoded = self.tokenizer.decode(generated[0], skip_special_tokens=True)\n",
    "        # print(decoded)\n",
    "        return decoded\n",
    "\n",
    "    @property\n",
    "    def _llm_type(self) -> str:\n",
    "        return \"Mistral-7B\"\n"
   ]
  },
  {
   "cell_type": "code",
   "execution_count": null,
   "metadata": {},
   "outputs": [],
   "source": [
    "class RagasEmbedding(BaseRagasEmbeddings):\n",
    "    def __init__(self, sentence_model, batch_size=256):\n",
    "        self.model = sentence_model\n",
    "        self.batch_size = batch_size\n",
    "\n",
    "    def embed_documents(self, texts: List[str]) -> List[List[float]]:\n",
    "        return self.model.encode(texts, batch_size=self.batch_size, show_progress_bar=False).tolist()\n",
    "\n",
    "    def embed_query(self, text: str) -> List[float]:\n",
    "        return self.model.encode([text], show_progress_bar=False)[0].tolist()\n",
    "\n",
    "    async def aembed_documents(self, texts: List[str]) -> List[List[float]]:\n",
    "        return self.embed_documents(texts)\n",
    "\n",
    "    async def aembed_query(self, text: str) -> List[float]:\n",
    "        return self.embed_query(text)"
   ]
  },
  {
   "cell_type": "code",
   "execution_count": null,
   "metadata": {},
   "outputs": [],
   "source": [
    "\n",
    "\n",
    "def generate_ragas_dataset(rag_chain, dataset, num_samples=100, start_idx=0, verbose=True):\n",
    "    \"\"\"\n",
    "    Generate a RAGAS-compatible Dataset from a LangChain RAG pipeline.\n",
    "\n",
    "    Args:\n",
    "        rag_chain: LangChain RetrievalQA or custom RAG chain.\n",
    "        dataset: HuggingFace Dataset (or list of dicts) with 'claim' and 'label' fields.\n",
    "        num_samples: Number of samples to generate (default: 100).\n",
    "        start_idx: Index to start from in the dataset (default: 0).\n",
    "        verbose: Whether to print progress/errors (default: True).\n",
    "\n",
    "    Returns:\n",
    "        A HuggingFace Dataset compatible with RAGAS evaluation.\n",
    "    \"\"\"\n",
    "\n",
    "    questions = []\n",
    "    answers = []\n",
    "    contexts_list = []\n",
    "    ground_truths = []\n",
    "\n",
    "    selected_data = dataset.select(range(start_idx, start_idx + num_samples))\n",
    "    done = 0\n",
    "    for sample in selected_data:\n",
    "        claim = sample['claim']\n",
    "        actual_label = sample['label']\n",
    "\n",
    "        try:\n",
    "            result = rag_chain({\"query\": claim})\n",
    "            model_answer = result['result']\n",
    "            doc_texts = [doc.page_content for doc in result['source_documents']]\n",
    "\n",
    "            # Append to lists\n",
    "            questions.append(claim)\n",
    "            answers.append(model_answer)\n",
    "            contexts_list.append(doc_texts)\n",
    "            ground_truths.append(actual_label)\n",
    "            print(f\"Progress: {done + 1} / {num_samples}\", end=\"\\r\", flush=True)\n",
    "            done += 1\n",
    "        except Exception as e:\n",
    "            if verbose:\n",
    "                print(f\" Error on sample: {claim[:30]}... → {str(e)}\")\n",
    "\n",
    "    # Convert to HuggingFace Dataset\n",
    "    data = {\n",
    "        \"question\": questions,\n",
    "        \"answer\": answers,\n",
    "        \"contexts\": contexts_list,\n",
    "        \"ground_truth\": ground_truths\n",
    "    }\n",
    "\n",
    "    return Dataset.from_dict(data)\n",
    "\n"
   ]
  },
  {
   "cell_type": "code",
   "execution_count": null,
   "metadata": {},
   "outputs": [],
   "source": [
    "\n",
    "ragas_dataset = generate_ragas_dataset(\n",
    "    rag_chain=tagged_rag_chain,\n",
    "    dataset=train,\n",
    "    num_samples=3,      # how many claims to run\n",
    "    start_idx=0,          # from where in dataset\n",
    "    verbose=True          # print errors if any\n",
    ")"
   ]
  },
  {
   "cell_type": "code",
   "execution_count": null,
   "metadata": {},
   "outputs": [],
   "source": [
    "run_config = RunConfig(timeout=800, max_wait=800)\n",
    "\n",
    "ragas_embedding_model = RagasEmbedding(sentence_transformer)\n",
    "ragas_llm = LangchainLLMWrapper(RAGASLLM(model, tokenizer), run_config)\n",
    "\n",
    "ragas_result = evaluate(\n",
    "    dataset=ragas_dataset,\n",
    "    metrics=[\n",
    "        LLMContextRecall(),\n",
    "        ContextPrecision(),\n",
    "        Faithfulness(),\n",
    "        AnswerCorrectness(),\n",
    "        ResponseRelevancy(),\n",
    "        FactualCorrectness()\n",
    "    ],\n",
    "    llm=ragas_llm,\n",
    "    embeddings=ragas_embedding_model,\n",
    "    run_config=run_config\n",
    ")\n",
    "\n"
   ]
  },
  {
   "cell_type": "code",
   "execution_count": null,
   "metadata": {},
   "outputs": [],
   "source": [
    "# Average across samples\n",
    "ragas_result"
   ]
  },
  {
   "cell_type": "code",
   "execution_count": null,
   "metadata": {},
   "outputs": [],
   "source": [
    "print(ragas_result.to_pandas())"
   ]
  },
  {
   "cell_type": "code",
   "execution_count": null,
   "metadata": {},
   "outputs": [],
   "source": [
    "ragas_result.to_pandas()"
   ]
  },
  {
   "cell_type": "markdown",
   "metadata": {
    "id": "ttdveYdrFm0x"
   },
   "source": [
    "#### RAGAS :  saliency heatmap per question"
   ]
  },
  {
   "cell_type": "code",
   "execution_count": null,
   "metadata": {},
   "outputs": [],
   "source": [
    "for idx, row in enumerate(ragas_dataset):\n",
    "\n",
    "    print(f\"=== Question {idx}: {row['question']} ===\")\n",
    "\n",
    "    # Get Faithfulness and Context Recall score for this example\n",
    "    faithfulness_score = ragas_result['faithfulness'][idx]\n",
    "    context_recall_score = ragas_result['context_recall'][idx]\n",
    "\n",
    "    print(f\"Faithfulness Score: {faithfulness_score:.4f}\")\n",
    "    print(f\"Context Recall Score: {context_recall_score:.4f}\")\n",
    "\n",
    "    # Retrieved contexts for this question\n",
    "    retrieved_chunks = row['contexts']\n",
    "\n",
    "    # Build dummy \"saliency\" score for each context (for now, equal scores)\n",
    "    # Later you can replace this with better logic\n",
    "    chunk_saliency = [1/len(retrieved_chunks)] * len(retrieved_chunks)\n",
    "\n",
    "    # Plotting the saliency\n",
    "    fig, ax = plt.subplots(figsize=(8, 0.5 * len(retrieved_chunks)))\n",
    "\n",
    "    ax.barh(\n",
    "        y=[f\"Doc {i+1}\" for i in range(len(retrieved_chunks))],\n",
    "        width=chunk_saliency,\n",
    "        color='skyblue'\n",
    "    )\n",
    "\n",
    "    ax.set_xlabel(\"Attribution Score\")\n",
    "    ax.set_title(f\"Retrieval Saliency Heatmap for Question {idx}\")\n",
    "    plt.gca().invert_yaxis()  # Doc 1 on top\n",
    "\n",
    "    plt.show()\n",
    "\n",
    "    print(\"-\" * 80)"
   ]
  },
  {
   "cell_type": "markdown",
   "metadata": {
    "id": "Yqd9Ae0dFm0x"
   },
   "source": [
    "## Now Run RAGAS on 25 samples --- Base Mistral Model\n"
   ]
  },
  {
   "cell_type": "code",
   "execution_count": null,
   "metadata": {},
   "outputs": [],
   "source": [
    "\n",
    "ragas_dataset = generate_ragas_dataset(\n",
    "    rag_chain=tagged_rag_chain,\n",
    "    dataset=train,\n",
    "    num_samples=25,      # how many claims to run\n",
    "    start_idx=0,          # from where in dataset\n",
    "    verbose=True          # print errors if any\n",
    ")"
   ]
  },
  {
   "cell_type": "code",
   "execution_count": null,
   "metadata": {},
   "outputs": [],
   "source": [
    "run_config = RunConfig(timeout=800, max_wait=800)\n",
    "\n",
    "ragas_embedding_model = RagasEmbedding(sentence_transformer)\n",
    "ragas_llm = LangchainLLMWrapper(RAGASLLM(model, tokenizer), run_config)\n",
    "\n",
    "ragas_result_25 = evaluate(\n",
    "    dataset=ragas_dataset,\n",
    "    metrics=[\n",
    "        Faithfulness(),\n",
    "        ResponseRelevancy()\n",
    "    ],\n",
    "    llm=ragas_llm,\n",
    "    embeddings=ragas_embedding_model,\n",
    "    run_config=run_config\n",
    ")\n"
   ]
  },
  {
   "cell_type": "code",
   "execution_count": null,
   "metadata": {},
   "outputs": [],
   "source": [
    "ragas_result_25"
   ]
  },
  {
   "cell_type": "code",
   "execution_count": null,
   "metadata": {},
   "outputs": [],
   "source": [
    "ragas_result_25.to_pandas()"
   ]
  },
  {
   "cell_type": "code",
   "execution_count": null,
   "metadata": {},
   "outputs": [],
   "source": [
    "import numpy as np\n",
    "import matplotlib.pyplot as plt\n",
    "import seaborn as sns\n",
    "\n",
    "faithfulness_scores = ragas_result_25['faithfulness']\n",
    "answer_relevancy_scores = ragas_result_25['answer_relevancy']\n",
    "\n",
    "faithfulness_scores = np.array(faithfulness_scores)\n",
    "answer_relevancy_scores = np.array(answer_relevancy_scores)\n",
    "\n",
    "print(f\"Number of samples (including zeros): {len(faithfulness_scores)}\")\n",
    "\n",
    "# ---- 2x2 Plot Grid ----\n",
    "fig, axes = plt.subplots(2, 2, figsize=(15, 12))\n",
    "\n",
    "# 1. Histogram\n",
    "axes[0, 0].hist(faithfulness_scores, bins=10, alpha=0.7, label='Faithfulness')\n",
    "axes[0, 0].hist(answer_relevancy_scores, bins=10, alpha=0.7, label='Answer Relevancy')\n",
    "axes[0, 0].set_title(\"Histogram of RAGAS Scores \")\n",
    "axes[0, 0].set_xlabel(\"Score\")\n",
    "axes[0, 0].set_ylabel(\"Count\")\n",
    "axes[0, 0].legend()\n",
    "axes[0, 0].grid(True)\n",
    "\n",
    "# 2. Boxplot\n",
    "sns.boxplot(data=[faithfulness_scores, answer_relevancy_scores], ax=axes[0, 1])\n",
    "axes[0, 1].set_xticklabels(['Faithfulness', 'Answer Relevancy'])\n",
    "axes[0, 1].set_ylabel('Score')\n",
    "axes[0, 1].set_title(\"Boxplot of RAGAS Scores\")\n",
    "axes[0, 1].grid(True)\n",
    "\n",
    "# 3. Line Plot\n",
    "sample_idx = np.arange(len(faithfulness_scores))\n",
    "axes[1, 0].plot(sample_idx, faithfulness_scores, marker='o', label='Faithfulness')\n",
    "axes[1, 0].plot(sample_idx, answer_relevancy_scores, marker='s', label='Answer Relevancy')\n",
    "axes[1, 0].set_xlabel(\"Sample Index\")\n",
    "axes[1, 0].set_ylabel(\"Score\")\n",
    "axes[1, 0].set_title(\"Score Trend across Samples\")\n",
    "axes[1, 0].legend()\n",
    "axes[1, 0].grid(True)\n",
    "\n",
    "# 4. Scatter Plot\n",
    "axes[1, 1].scatter(faithfulness_scores, answer_relevancy_scores)\n",
    "axes[1, 1].set_xlabel(\"Faithfulness Score\")\n",
    "axes[1, 1].set_ylabel(\"Answer Relevancy Score\")\n",
    "axes[1, 1].set_title(\"Scatter: Faithfulness vs Relevancy\")\n",
    "axes[1, 1].grid(True)\n",
    "\n",
    "# Adjust layout\n",
    "plt.tight_layout()\n",
    "plt.show()\n",
    "\n",
    "\n",
    "correlation = np.corrcoef(faithfulness_scores, answer_relevancy_scores)[0, 1]\n",
    "# print(f\"📈 Correlation between Faithfulness and Answer Relevancy (including zeros): {correlation:.2f}\")\n"
   ]
  },
  {
   "cell_type": "markdown",
   "metadata": {
    "id": "Nw6lN3V9KAYi"
   },
   "source": [
    "### Insights\n",
    "- Mistral RAG achieves a higher faithfulness score (0.88) responses are  more closely grounded in the retrieved evidence.\n",
    "- However, its low answer relevancy score (0.5) suggests that, despite faithful grounding, the generated responses lack clarity or direct alignment with the claim."
   ]
  },
  {
   "cell_type": "code",
   "execution_count": null,
   "metadata": {},
   "outputs": [],
   "source": []
  }
 ],
 "metadata": {
  "language_info": {
   "name": "python"
  }
 },
 "nbformat": 4,
 "nbformat_minor": 4
}
